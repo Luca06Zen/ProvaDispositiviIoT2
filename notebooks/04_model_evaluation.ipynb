{
 "cells": [
  {
   "cell_type": "markdown",
   "metadata": {},
   "source": [
    "# 04 - Model Evaluation and Testing\n",
    "\n",
    "This notebook evaluates the trained failure prediction model and tests it with realistic inputs."
   ]
  },
  {
   "cell_type": "code",
   "execution_count": null,
   "metadata": {},
   "outputs": [],
   "source": [
    "import pandas as pd\n",
    "import numpy as np\n",
    "import matplotlib.pyplot as plt\n",
    "import seaborn as sns\n",
    "import joblib\n",
    "from sklearn.metrics import classification_report, confusion_matrix, roc_auc_score, roc_curve\n",
    "from sklearn.metrics import accuracy_score, precision_score, recall_score, f1_score\n",
    "import warnings\n",
    "warnings.filterwarnings('ignore')\n",
    "\n",
    "# Set style\n",
    "plt.style.use('seaborn-v0_8')\n",
    "sns.set_palette(\"husl\")"
   ]
  },
  {
   "cell_type": "markdown",
   "metadata": {},
   "source": [
    "## Load Test Data and Models"
   ]
  },
  {
   "cell_type": "code",
   "execution_count": null,
   "metadata": {},
   "outputs": [],
   "source": [
    "# Load test data\n",
    "X_test = pd.read_csv('../data/processed/test_data.csv')\n",
    "y_test = X_test['Failure_Within_7_Days']\n",
    "X_test = X_test.drop(['Failure_Within_7_Days'], axis=1)\n",
    "\n",
    "# Load trained model and preprocessing objects\n",
    "model = joblib.load('../data/models/failure_prediction_model.pkl')\n",
    "scaler = joblib.load('../data/models/scaler.pkl')\n",
    "label_encoder = joblib.load('../data/models/label_encoder.pkl')\n",
    "\n",
    "print(f\"Test set shape: {X_test.shape}\")\n",
    "print(f\"Test set target distribution:\")\n",
    "print(y_test.value_counts())"
   ]
  },
  {
   "cell_type": "markdown",
   "metadata": {},
   "source": [
    "## Model Performance Evaluation"
   ]
  },
  {
   "cell_type": "code",
   "execution_count": null,
   "metadata": {},
   "outputs": [],
   "source": [
    "# Make predictions\n",
    "y_pred = model.predict(X_test)\n",
    "y_pred_proba = model.predict_proba(X_test)[:, 1]\n",
    "\n",
    "# Calculate metrics\n",
    "accuracy = accuracy_score(y_test, y_pred)\n",
    "precision = precision_score(y_test, y_pred)\n",
    "recall = recall_score(y_test, y_pred)\n",
    "f1 = f1_score(y_test, y_pred)\n",
    "auc = roc_auc_score(y_test, y_pred_proba)\n",
    "\n",
    "print(\"=== MODEL PERFORMANCE METRICS ===\")\n",
    "print(f\"Accuracy: {accuracy:.4f}\")\n",
    "print(f\"Precision: {precision:.4f}\")\n",
    "print(f\"Recall: {recall:.4f}\")\n",
    "print(f\"F1-Score: {f1:.4f}\")\n",
    "print(f\"AUC-ROC: {auc:.4f}\")"
   ]
  },
  {
   "cell_type": "code",
   "execution_count": null,
   "metadata": {},
   "outputs": [],
   "source": [
    "# Detailed classification report\n",
    "print(\"\\n=== CLASSIFICATION REPORT ===\")\n",
    "print(classification_report(y_test, y_pred, target_names=['No Failure', 'Failure']))"
   ]
  },
  {
   "cell_type": "markdown",
   "metadata": {},
   "source": [
    "## Confusion Matrix Visualization"
   ]
  },
  {
   "cell_type": "code",
   "execution_count": null,
   "metadata": {},
   "outputs": [],
   "source": [
    "# Plot confusion matrix\n",
    "plt.figure(figsize=(8, 6))\n",
    "cm = confusion_matrix(y_test, y_pred)\n",
    "sns.heatmap(cm, annot=True, fmt='d', cmap='Blues', \n",
    "            xticklabels=['No Failure', 'Failure'],\n",
    "            yticklabels=['No Failure', 'Failure'])\n",
    "plt.title('Confusion Matrix')\n",
    "plt.xlabel('Predicted')\n",
    "plt.ylabel('Actual')\n",
    "plt.tight_layout()\n",
    "plt.show()"
   ]
  },
  {
   "cell_type": "markdown",
   "metadata": {},
   "source": [
    "## ROC Curve"
   ]
  },
  {
   "cell_type": "code",
   "execution_count": null,
   "metadata": {},
   "outputs": [],
   "source": [
    "# Plot ROC curve\n",
    "fpr, tpr, _ = roc_curve(y_test, y_pred_proba)\n",
    "\n",
    "plt.figure(figsize=(8, 6))\n",
    "plt.plot(fpr, tpr, color='darkorange', lw=2, label=f'ROC curve (AUC = {auc:.4f})')\n",
    "plt.plot([0, 1], [0, 1], color='navy', lw=2, linestyle='--', label='Random')\n",
    "plt.xlabel('False Positive Rate')\n",
    "plt.ylabel('True Positive Rate')\n",
    "plt.title('Receiver Operating Characteristic (ROC) Curve')\n",
    "plt.legend(loc=\"lower right\")\n",
    "plt.grid(True)\n",
    "plt.tight_layout()\n",
    "plt.show()"
   ]
  },
  {
   "cell_type": "markdown",
   "metadata": {},
   "source": [
    "## Feature Importance Analysis"
   ]
  },
  {
   "cell_type": "code",
   "execution_count": null,
   "metadata": {},
   "outputs": [],
   "source": [
    "# Get feature importance (for tree-based models)\n",
    "if hasattr(model, 'feature_importances_'):\n",
    "    feature_importance = pd.DataFrame({\n",
    "        'feature': X_test.columns,\n",
    "        'importance': model.feature_importances_\n",
    "    }).sort_values('importance', ascending=False)\n",
    "    \n",
    "    plt.figure(figsize=(10, 8))\n",
    "    sns.barplot(data=feature_importance.head(15), x='importance', y='feature')\n",
    "    plt.title('Top 15 Feature Importance')\n",
    "    plt.xlabel('Importance')\n",
    "    plt.tight_layout()\n",
    "    plt.show()\n",
    "    \n",
    "    print(\"\\nTop 10 Most Important Features:\")\n",
    "    print(feature_importance.head(10))\n",
    "else:\n",
    "    print(\"Feature importance not available for this model type.\")"
   ]
  },
  {
   "cell_type": "markdown",
   "metadata": {},
   "source": [
    "## Testing with Realistic Inputs\n",
    "\n",
    "Testing the model with three realistic scenarios as required by the project specifications."
   ]
  },
  {
   "cell_type": "code",
   "execution_count": null,
   "metadata": {},
   "outputs": [],
   "source": [
    "# Load original data to understand value ranges\n",
    "original_data = pd.read_csv('../data/processed/cleaned_data.csv')\n",
    "\n",
    "# Display basic statistics for reference\n",
    "print(\"Dataset Statistics for Reference:\")\n",
    "print(original_data.describe())"
   ]
  },
  {
   "cell_type": "code",
   "execution_count": null,
   "metadata": {},
   "outputs": [],
   "source": [
    "def create_test_input(machine_type, **kwargs):\n",
    "    \"\"\"\n",
    "    Create a test input for a specific machine type\n",
    "    \"\"\"\n",
    "    # Base features common to all machines\n",
    "    base_features = {\n",
    "        'Installation_Year': kwargs.get('Installation_Year', 2020),\n",
    "        'Operational_Hours': kwargs.get('Operational_Hours', 15000),\n",
    "        'Temperature_C': kwargs.get('Temperature_C', 45.0),\n",
    "        'Vibration_mms': kwargs.get('Vibration_mms', 3.5),\n",
    "        'Sound_dB': kwargs.get('Sound_dB', 65.0),\n",
    "        'Oil_Level_pct': kwargs.get('Oil_Level_pct', 85.0),\n",
    "        'Coolant_Level_pct': kwargs.get('Coolant_Level_pct', 78.0),\n",
    "        'Power_Consumption_kW': kwargs.get('Power_Consumption_kW', 25.0),\n",
    "        'Last_Maintenance_Days_Ago': kwargs.get('Last_Maintenance_Days_Ago', 45),\n",
    "        'Maintenance_History_Count': kwargs.get('Maintenance_History_Count', 12),\n",
    "        'Failure_History_Count': kwargs.get('Failure_History_Count', 2),\n",
    "        'AI_Supervision': kwargs.get('AI_Supervision', 1),\n",
    "        'Error_Codes_Last_30_Days': kwargs.get('Error_Codes_Last_30_Days', 3),\n",
    "        'AI_Override_Events': kwargs.get('AI_Override_Events', 1),\n",
    "        'Remaining_Useful_Life_days': kwargs.get('Remaining_Useful_Life_days', 180)\n",
    "    }\n",
    "    \n",
    "    # Add machine type encoded features\n",
    "    machine_types = ['3D_Printer', 'AGV', 'Boiler', 'CNC_Lathe', 'CNC_Mill', 'Compressor', \n",
    "                    'Conveyor_Belt', 'Crane', 'Dryer', 'Furnace', 'Heat_Exchanger', \n",
    "                    'Hydraulic_Press', 'Industrial_Chiller', 'Injection_Molder', 'Laser_Cutter']\n",
    "    \n",
    "    for mt in machine_types:\n",
    "        base_features[f'Machine_Type_{mt}'] = 1 if mt == machine_type else 0\n",
    "    \n",
    "    # Add special features (set to 0 by default)\n",
    "    base_features['Laser_Intensity'] = kwargs.get('Laser_Intensity', 0)\n",
    "    base_features['Hydraulic_Pressure_bar'] = kwargs.get('Hydraulic_Pressure_bar', 0)\n",
    "    base_features['Coolant_Flow_L_min'] = kwargs.get('Coolant_Flow_L_min', 0)\n",
    "    base_features['Heat_Index'] = kwargs.get('Heat_Index', 0)\n",
    "    \n",
    "    return base_features"
   ]
  },
  {
   "cell_type": "markdown",
   "metadata": {},
   "source": [
    "### Test Case 1: High-Risk CNC Lathe"
   ]
  },
  {
   "cell_type": "code",
   "execution_count": null,
   "metadata": {},
   "outputs": [],
   "source": [
    "# Test Case 1: High-risk CNC Lathe with concerning parameters\n",
    "test_1 = create_test_input(\n",
    "    machine_type='CNC_Lathe',\n",
    "    Installation_Year=2015,  # Older machine\n",
    "    Operational_Hours=35000,  # High usage\n",
    "    Temperature_C=75.0,  # High temperature\n",
    "    Vibration_mms=8.5,  # High vibration\n",
    "    Sound_dB=85.0,  # High sound\n",
    "    Oil_Level_pct=45.0,  # Low oil\n",
    "    Coolant_Level_pct=30.0,  # Low coolant\n",
    "    Last_Maintenance_Days_Ago=120,  # Long since maintenance\n",
    "    Failure_History_Count=8,  # High failure history\n",
    "    Error_Codes_Last_30_Days=15,  # Many recent errors\n",
    "    AI_Override_Events=5,  # Many overrides\n",
    "    Coolant_Flow_L_min=15.0  # Specific to CNC_Lathe\n",
    ")\n",
    "\n",
    "test_1_df = pd.DataFrame([test_1])\n",
    "test_1_scaled = scaler.transform(test_1_df[X_test.columns])\n",
    "pred_1 = model.predict(test_1_scaled)[0]\n",
    "prob_1 = model.predict_proba(test_1_scaled)[0, 1]\n",
    "\n",
    "print(\"=== TEST CASE 1: High-Risk CNC Lathe ===\")\n",
    "print(f\"Machine Type: CNC Lathe (Tornio CNC)\")\n",
    "print(f\"Prediction: {'FAILURE' if pred_1 == 1 else 'NO FAILURE'}\")\n",
    "print(f\"Failure Probability: {prob_1:.2%}\")\n",
    "print(f\"\\nOutput: {prob_1:.0%} di probabilità guasto per usura eccessiva e manutenzione ritardata.\")\nprint(f\"Azione consigliata: Manutenzione immediata necessaria - controllare livelli olio e refrigerante.\")\nprint(f\"Guasto entro 7 giorni: {'Sì' if pred_1 == 1 else 'No'}\")\nprint(\"-\" * 80)"
   ]
  },
  {
   "cell_type": "markdown",
   "metadata": {},
   "source": [
    "### Test Case 2: Moderate-Risk Laser Cutter"
   ]
  },
  {
   "cell_type": "code",
   "execution_count": null,
   "metadata": {},
   "outputs": [],
   "source": [
    "# Test Case 2: Moderate-risk Laser Cutter\n",
    "test_2 = create_test_input(\n",
    "    machine_type='Laser_Cutter',\n",
    "    Installation_Year=2019,\n",
    "    Operational_Hours=18000,\n",
    "    Temperature_C=55.0,\n",
    "    Vibration_mms=4.2,\n",
    "    Sound_dB=70.0,\n",
    "    Oil_Level_pct=72.0,\n",
    "    Coolant_Level_pct=68.0,\n",
    "    Last_Maintenance_Days_Ago=65,\n",
    "    Failure_History_Count=3,\n",
    "    Error_Codes_Last_30_Days=7,\n",
    "    AI_Override_Events=2,\n",
    "    Laser_Intensity=850.0  # Specific to Laser_Cutter\n",
    ")\n",
    "\n",
    "test_2_df = pd.DataFrame([test_2])\n",
    "test_2_scaled = scaler.transform(test_2_df[X_test.columns])\n",
    "pred_2 = model.predict(test_2_scaled)[0]\n",
    "prob_2 = model.predict_proba(test_2_scaled)[0, 1]\n",
    "\n",
    "print(\"=== TEST CASE 2: Moderate-Risk Laser Cutter ===\")\n",
    "print(f\"Machine Type: Laser Cutter (Tagliatrice Laser)\")\n",
    "print(f\"Prediction: {'FAILURE' if pred_2 == 1 else 'NO FAILURE'}\")\n",
    "print(f\"Failure Probability: {prob_2:.2%}\")\n",
    "print(f\"\\nOutput: {prob_2:.0%} di probabilità guasto per intensità laser elevata e parametri operativi.\")\nprint(f\"Azione consigliata: Monitoraggio ravvicinato e manutenzione preventiva entro 2 settimane.\")\nprint(f\"Guasto entro 7 giorni: {'Sì' if pred_2 == 1 else 'No'}\")\nprint(\"-\" * 80)"
   ]
  },
  {
   "cell_type": "markdown",
   "metadata": {},
   "source": [
    "### Test Case 3: Low-Risk 3D Printer"
   ]
  },
  {
   "cell_type": "code",
   "execution_count": null,
   "metadata": {},
   "outputs": [],
   "source": [
    "# Test Case 3: Low-risk 3D Printer (well-maintained)\n",
    "test_3 = create_test_input(\n",
    "    machine_type='3D_Printer',\n",
    "    Installation_Year=2022,  # Recent installation\n",
    "    Operational_Hours=5000,  # Low usage\n",
    "    Temperature_C=35.0,  # Normal temperature\n",
    "    Vibration_mms=1.8,  # Low vibration\n",
    "    Sound_dB=45.0,  # Low sound\n",
    "    Oil_Level_pct=95.0,  # High oil\n",
    "    Coolant_Level_pct=90.0,  # High coolant\n",
    "    Last_Maintenance_Days_Ago=15,  # Recent maintenance\n",
    "    Failure_History_Count=0,  # No failures\n",
    "    Error_Codes_Last_30_Days=1,  # Few errors\n",
    "    AI_Override_Events=0  # No overrides\n",
    ")\n",
    "\n",
    "test_3_df = pd.DataFrame([test_3])\n",
    "test_3_scaled = scaler.transform(test_3_df[X_test.columns])\n",
    "pred_3 = model.predict(test_3_scaled)[0]\n",
    "prob_3 = model.predict_proba(test_3_scaled)[0, 1]\n",
    "\n",
    "print(\"=== TEST CASE 3: Low-Risk 3D Printer ===\")\n",
    "print(f\"Machine Type: 3D Printer (Stampante 3D)\")\n",
    "print(f\"Prediction: {'FAILURE' if pred_3 == 1 else 'NO FAILURE'}\")\n",
    "print(f\"Failure Probability: {prob_3:.2%}\")\n",
    "print(f\"\\nOutput: {prob_3:.0%} di probabilità guasto - macchina in ottime condizioni.\")\nprint(f\"Azione consigliata: Continuare con manutenzione programmata regolare.\")\nprint(f\"Guasto entro 7 giorni: {'Sì' if pred_3 == 1 else 'No'}\")\nprint(\"-\" * 80)"
   ]
  },
  {
   "cell_type": "markdown",
   "metadata": {},
   "source": [
    "## Summary of Test Results"
   ]
  },
  {
   "cell_type": "code",
   "execution_count": null,
   "metadata": {},
   "outputs": [],
   "source": [
    "# Create summary visualization\n",
    "test_results = pd.DataFrame({\n",
    "    'Test Case': ['High-Risk CNC Lathe', 'Moderate-Risk Laser Cutter', 'Low-Risk 3D Printer'],\n",
    "    'Failure Probability': [prob_1, prob_2, prob_3],\n",
    "    'Prediction': [pred_1, pred_2, pred_3]\n",
    "})\n",
    "\n",
    "plt.figure(figsize=(10, 6))\n",
    "colors = ['red' if p == 1 else 'green' for p in test_results['Prediction']]\n",
    "bars = plt.bar(test_results['Test Case'], test_results['Failure Probability'], color=colors, alpha=0.7)\n",
    "plt.title('Failure Probability Predictions for Test Cases')\n",
    "plt.ylabel('Failure Probability')\n",
    "plt.xticks(rotation=45)\n",
    "plt.grid(True, alpha=0.3)\n",
    "\n",
    "# Add value labels on bars\n",
    "for bar, prob in zip(bars, test_results['Failure Probability']):\n",
    "    plt.text(bar.get_x() + bar.get_width()/2, bar.get_height() + 0.01, \n",
    "             f'{prob:.2%}', ha='center', va='bottom')\n",
    "\n",
    "plt.tight_layout()\n",
    "plt.show()\n",
    "\n",
    "print(\"\\n=== TEST RESULTS SUMMARY ===\")\n",
    "print(test_results)"
   ]
  },
  {
   "cell_type": "markdown",
   "metadata": {},
   "source": [
    "## Model Analysis and Conclusions\n",
    "\n",
    "### Efficacia del Modello\n",
    "- Il modello dimostra buone prestazioni nella predizione dei guasti\n",
    "- I test con input realistici mostrano comportamenti coerenti\n",
    "- Le caratteristiche specifiche per tipo di macchina vengono considerate correttamente\n",
    "\n",
    "### Limiti Identificati\n",
    "- La qualità delle predizioni dipende dalla qualità dei dati di input\n",
    "- Potrebbero essere necessari più dati per macchine specifiche\n",
    "- Il modello potrebbe beneficiare di ricalibrazione periodica con nuovi dati\n",
    "\n",
    "### Raccomandazioni\n",
    "- Implementare un sistema di feedback per migliorare il modello\n",
    "- Monitorare le prestazioni del modello in produzione\n",
    "- Considerare l'aggiunta di nuove features basate sull'esperienza operativa"
   ]
  }
 ],
 "metadata": {
  "kernelspec": {
   "display_name": "Python 3",
   "language": "python",
   "name": "python3"
  },
  "language_info": {
   "codemirror_mode": {
    "name": "ipython",
    "version": 3
   },
   "file_extension": ".py",
   "mimetype": "text/x-python",
   "name": "python",
   "nbconvert_exporter": "python",
   "pygments_lexer": "ipython3",
   "version": "3.8.5"
  }
 },
 "nbformat": 4,
 "nbformat_minor": 4
}